{
 "cells": [
  {
   "cell_type": "markdown",
   "metadata": {},
   "source": [
    "# Day02\n",
    "今回も IrisDatasetを利用するので事前に、Iris-Virginicaの削除、標準化を行った後、\n",
    "scikit-learnの `train_test_split` 関数で学習データとテストデータに分割しておく。"
   ]
  },
  {
   "cell_type": "code",
   "execution_count": 1,
   "metadata": {},
   "outputs": [],
   "source": [
    "import numpy as np\n",
    "\n",
    "from sklearn import datasets\n",
    "from sklearn.model_selection import train_test_split\n",
    "\n",
    "iris = datasets.load_iris()\n",
    "\n",
    "# ラベルが2の行をすべて削除\n",
    "iris.data = iris.data[:100]\n",
    "iris.target = iris.target[:100]\n",
    "\n",
    "# 標準化\n",
    "avg = np.average(iris.data)\n",
    "std = np.std(iris.data)\n",
    "iris.data = (iris.data-avg)/std\n",
    "\n",
    "# データを学習用と推論用に分割\n",
    "X, y = iris.data, iris.target\n",
    "X_train, X_test, y_train, y_test = train_test_split(X, y, random_state=0, stratify=y)"
   ]
  },
  {
   "cell_type": "markdown",
   "metadata": {},
   "source": [
    "## ロジスティック回帰\n",
    "\n",
    "### sigmoid関数\n",
    "以下の式で定義され、入力を$[0,1]$の範囲に変換することができる。  \n",
    "$\\phi(z) = \\frac{1}{1+e^{-z}}$"
   ]
  },
  {
   "cell_type": "code",
   "execution_count": 2,
   "metadata": {},
   "outputs": [
    {
     "data": {
      "image/png": "[encoded data removed]",
      "text/plain": [
       "<Figure size 640x480 with 1 Axes>"
      ]
     },
     "metadata": {},
     "output_type": "display_data"
    }
   ],
   "source": [
    "import numpy as np\n",
    "import matplotlib.pyplot as plt\n",
    "\n",
    "# sigmoid関数\n",
    "def sigmoid(z: float) -> float:\n",
    "    return 1 / (1 + np.exp(-z))\n",
    "\n",
    "# プロット\n",
    "z = np.linspace(-7, 7)\n",
    "plt.grid()\n",
    "plt.xlabel(\"z\")\n",
    "plt.ylabel(\"sigmoid(z)\")\n",
    "plt.plot(z, sigmoid(z))\n",
    "plt.show()"
   ]
  },
  {
   "cell_type": "markdown",
   "metadata": {},
   "source": [
    "## ロジスティック回帰の実装\n",
    "前回実装したパーセプトロンクラスをもとに実装を行う。\n",
    "\n",
    "パーセプトロンとの変更箇所を以下に示す。\n",
    "### 決定関数 `threshhold`\n",
    "判断材料が確率に変わったので、次のように判別することとする。  \n",
    "$\n",
    "threshhold(z) = \n",
    "    \\begin{aligned}\n",
    "        & \\left\\{ \\,\n",
    "            \\begin{aligned}\n",
    "                & 1 & \\quad &(z \\geq 0) \\\\\n",
    "                & 0 & \\quad &(z < 0)\n",
    "            \\end{aligned}\n",
    "        \\right.\n",
    "    \\end{aligned}\n",
    "$\n",
    "\n",
    "### 損失関数 `J`\n",
    "ロジスティック回帰では対数尤度を最大化するのが目的なので損失関数を次の式に換装する。  \n",
    "$\n",
    "J(\\bm{w}) = \\sum_{i=1}^{n} [-y^{(i)} log(\\phi (z^{(i)})) - (1-y^{(i)})log(1-\\phi (z^{(i)}))]\n",
    "$\n",
    "\n",
    "\n",
    "### 勾配関数 `nablaJ`\n",
    "パーセプトロンとは損失関数が異なるので、勾配関数も異なる。したがって次の式を用いる。  \n",
    "$\n",
    "\\frac{\\partial}{\\partial w_j}J(\\bm{w}) = (y - \\phi(z))x_j\n",
    "$\n",
    "\n",
    "### 学習 `fit`\n",
    "総入力$z$をsigmoid関数によって確率に変換する必要があるので決定関数の前にsigmoid関数を挿入する。\n",
    "実装では前のセルで定義した `sigmoid(z)` 関数を利用している。\n",
    "\n",
    "### 推論 `predict`\n",
    "学習同様にsigmoid関数を挿入\n",
    "\n",
    "### 確率の推論 `predict_proba`\n",
    "そのクラスに属する確率を返す関数を実装\n"
   ]
  },
  {
   "cell_type": "code",
   "execution_count": 3,
   "metadata": {},
   "outputs": [],
   "source": [
    "class LogisticRegression:\n",
    "    \n",
    "    # コンストラクタ\n",
    "    def __init__(self, input_dim: int) -> None:\n",
    "        self.w = np.random.randn(input_dim+1) * 0.0001\n",
    "        \n",
    "    # 決定関数\n",
    "    def threshhold(self, z: float) -> int:\n",
    "        return 1 if z >= 0.5 else 0\n",
    "    \n",
    "    # 損失関数\n",
    "    def J(self) -> float:\n",
    "        return np.sum([-y[i]*np.log(self.zs[i]) - (1-y[i])*np.log(1-self.zs[i]) for i in range(len(self.y))])\n",
    "    \n",
    "    # 損失関数の勾配\n",
    "    def nablaJ(self) -> np.ndarray:\n",
    "        return - self.x.T @ (self.y-self.zs)\n",
    "    \n",
    "    #　学習   \n",
    "    def fit(self, X: np.ndarray, Y: np.ndarray, epoches: int=20, eta: float=0.01) -> None:\n",
    "        \n",
    "        # xを整形して、アトリビュートにする\n",
    "        self.x = np.hstack((np.ones((len(X), 1)), X))\n",
    "        self.y = Y\n",
    "        \n",
    "        # epochの回数、勾配を計算して重みを更新\n",
    "        for epoch in range(epoches):\n",
    "            \n",
    "            # 勾配の計算用にφ(z)を格納するリスト\n",
    "            self.zs = []\n",
    "\n",
    "            # すべてのデータに対して、総入力、出力を計算\n",
    "            for xi in self.x:\n",
    "                z = self.w.T @ xi\n",
    "                self.zs.append(sigmoid(z))\n",
    "                \n",
    "            # 勾配を計算して更新\n",
    "            delta_w = -eta * self.nablaJ()\n",
    "            self.w += delta_w\n",
    "            \n",
    "            # 途中経過を出力\n",
    "            print('epoch: {:>2} | log-likelihood: {:.3f}'.format(epoch+1, self.J()))\n",
    "        \n",
    "    # 推論\n",
    "    def predict(self, x: np.ndarray) -> np.ndarray:\n",
    "        x = np.hstack((np.ones((len(x), 1)), x))\n",
    "        return [self.threshhold(sigmoid(self.w.T @ xi)) for xi in x]\n",
    "    \n",
    "    # 確率推論\n",
    "    def predict_proba(self, x: np.ndarray) -> np.ndarray:\n",
    "        x = np.hstack((np.ones((len(x), 1)), x))\n",
    "        return [[1-sigmoid(self.w.T @ xi), sigmoid(self.w.T @ xi)] for xi in x]\n"
   ]
  },
  {
   "cell_type": "markdown",
   "metadata": {},
   "source": [
    "パーセプトロンと同様に学習を行うパーセプトロンとは異なり、\n",
    "対数尤度が次第に大きくなっていることがわかる。"
   ]
  },
  {
   "cell_type": "code",
   "execution_count": 4,
   "metadata": {},
   "outputs": [
    {
     "name": "stdout",
     "output_type": "stream",
     "text": [
      "epoch:  1 | log-likelihood: 51.987\n",
      "epoch:  2 | log-likelihood: 52.767\n",
      "epoch:  3 | log-likelihood: 54.847\n",
      "epoch:  4 | log-likelihood: 57.494\n",
      "epoch:  5 | log-likelihood: 60.378\n",
      "epoch:  6 | log-likelihood: 63.327\n",
      "epoch:  7 | log-likelihood: 66.251\n",
      "epoch:  8 | log-likelihood: 69.103\n",
      "epoch:  9 | log-likelihood: 71.859\n",
      "epoch: 10 | log-likelihood: 74.509\n",
      "epoch: 11 | log-likelihood: 77.051\n",
      "epoch: 12 | log-likelihood: 79.488\n",
      "epoch: 13 | log-likelihood: 81.824\n",
      "epoch: 14 | log-likelihood: 84.063\n",
      "epoch: 15 | log-likelihood: 86.212\n",
      "epoch: 16 | log-likelihood: 88.275\n",
      "epoch: 17 | log-likelihood: 90.259\n",
      "epoch: 18 | log-likelihood: 92.169\n",
      "epoch: 19 | log-likelihood: 94.009\n",
      "epoch: 20 | log-likelihood: 95.784\n",
      "accuracy: 100.0 %\n"
     ]
    }
   ],
   "source": [
    "# 入力の次元数を渡してロジスティック回帰のインスタンスを生成\n",
    "model = LogisticRegression(4)\n",
    "\n",
    "# 学習\n",
    "model.fit(X_train, y_train)\n",
    "\n",
    "# 推論\n",
    "pred = model.predict(X_test)\n",
    "\n",
    "# 推論結果から正答率を出力してみる。\n",
    "print('accuracy:', 100*np.sum(pred==y_test)/len(y_test), '%')"
   ]
  },
  {
   "cell_type": "markdown",
   "metadata": {},
   "source": [
    "次に、`LogisticRegression` クラス内に実装した `predict_proba` メソッドを利用して、\n",
    "テストデータがそのそれぞれのクラスに属する、確率を見てみる。結果を見ると予測の他に、確率を計算しいることもわかる。"
   ]
  },
  {
   "cell_type": "code",
   "execution_count": 5,
   "metadata": {},
   "outputs": [
    {
     "name": "stdout",
     "output_type": "stream",
     "text": [
      "class0 | class1 | predict | answer\n",
      "12.28% | 87.72% |    1    |   1  \n",
      " 3.88% | 96.12% |    1    |   1  \n",
      "90.70% |  9.30% |    0    |   0  \n",
      "84.77% | 15.23% |    0    |   0  \n",
      "90.28% |  9.72% |    0    |   0  \n",
      "11.88% | 88.12% |    1    |   1  \n",
      "89.55% | 10.45% |    0    |   0  \n",
      "19.00% | 81.00% |    1    |   1  \n",
      "91.59% |  8.41% |    0    |   0  \n",
      " 6.04% | 93.96% |    1    |   1  \n",
      " 4.52% | 95.48% |    1    |   1  \n",
      "91.84% |  8.16% |    0    |   0  \n",
      "90.45% |  9.55% |    0    |   0  \n",
      " 6.07% | 93.93% |    1    |   1  \n",
      "13.15% | 86.85% |    1    |   1  \n",
      "89.43% | 10.57% |    0    |   0  \n",
      "12.99% | 87.01% |    1    |   1  \n",
      "90.23% |  9.77% |    0    |   0  \n",
      "90.25% |  9.75% |    0    |   0  \n",
      "92.60% |  7.40% |    0    |   0  \n",
      "89.26% | 10.74% |    0    |   0  \n",
      "85.27% | 14.73% |    0    |   0  \n",
      " 8.95% | 91.05% |    1    |   1  \n",
      " 7.60% | 92.40% |    1    |   1  \n",
      " 4.10% | 95.90% |    1    |   1  \n"
     ]
    }
   ],
   "source": [
    "pred_proba = model.predict_proba(X_test)\n",
    "\n",
    "print('{:^6} | {:^6} | {:^6} | {}'.format('class0', 'class1','predict' ,'answer'))\n",
    "for i in range(len(y_test)):\n",
    "    proba = pred_proba[i]\n",
    "    print('{:5.2f}% | {:5.2f}% | {:^7} | {:^5}'.format(proba[0]*100, proba[1]*100, pred[i], y_test[i]))"
   ]
  },
  {
   "cell_type": "markdown",
   "metadata": {},
   "source": [
    "## `scikit-learn` の利用\n",
    "\n",
    "Pythonの機械学習ライブラリである`scikit-learn`に実装されているロジスティック回帰モデルを利用することで、\n",
    "簡単に、ロジスティック回帰モデルを利用することができる。以下に例を示す。"
   ]
  },
  {
   "cell_type": "code",
   "execution_count": 6,
   "metadata": {},
   "outputs": [
    {
     "name": "stdout",
     "output_type": "stream",
     "text": [
      "accuracy: 100.0 %\n"
     ]
    }
   ],
   "source": [
    "from sklearn.linear_model import LogisticRegression\n",
    "\n",
    "# インスタンスの生成\n",
    "lr = LogisticRegression()\n",
    "\n",
    "# 学習(ログは出ないので注意)\n",
    "lr.fit(X_train, y_train)\n",
    "\n",
    "# 推論\n",
    "pred = model.predict(X_test)\n",
    "\n",
    "# 推論結果から正答率を出力してみる。\n",
    "print('accuracy:', 100*np.sum(pred==y_test)/len(y_test), '%')\n"
   ]
  },
  {
   "cell_type": "markdown",
   "metadata": {},
   "source": [
    "スクラッチ実装した、ロジスティック回帰モデルと同様に、確率を出すには `predict_proba` メソッドを利用する。"
   ]
  },
  {
   "cell_type": "code",
   "execution_count": 7,
   "metadata": {},
   "outputs": [
    {
     "name": "stdout",
     "output_type": "stream",
     "text": [
      "class0 | class1 | predict | answer\n",
      " 6.71% | 93.29% |    1    |   1  \n",
      " 1.90% | 98.10% |    1    |   1  \n",
      "94.40% |  5.60% |    0    |   0  \n",
      "88.55% | 11.45% |    0    |   0  \n",
      "93.11% |  6.89% |    0    |   0  \n",
      " 6.09% | 93.91% |    1    |   1  \n",
      "93.42% |  6.58% |    0    |   0  \n",
      "11.16% | 88.84% |    1    |   1  \n",
      "94.37% |  5.63% |    0    |   0  \n",
      " 3.14% | 96.86% |    1    |   1  \n",
      " 1.95% | 98.05% |    1    |   1  \n",
      "94.62% |  5.38% |    0    |   0  \n",
      "93.96% |  6.04% |    0    |   0  \n",
      " 2.94% | 97.06% |    1    |   1  \n",
      " 6.99% | 93.01% |    1    |   1  \n",
      "92.89% |  7.11% |    0    |   0  \n",
      " 6.39% | 93.61% |    1    |   1  \n",
      "94.13% |  5.87% |    0    |   0  \n",
      "94.54% |  5.46% |    0    |   0  \n",
      "94.92% |  5.08% |    0    |   0  \n",
      "93.16% |  6.84% |    0    |   0  \n",
      "88.88% | 11.12% |    0    |   0  \n",
      " 3.94% | 96.06% |    1    |   1  \n",
      " 3.34% | 96.66% |    1    |   1  \n",
      " 1.86% | 98.14% |    1    |   1  \n"
     ]
    }
   ],
   "source": [
    "pred_proba = lr.predict_proba(X_test)\n",
    "\n",
    "print('{:^6} | {:^6} | {:^6} | {}'.format('class0', 'class1','predict' ,'answer'))\n",
    "for i in range(len(y_test)):\n",
    "    proba = pred_proba[i]\n",
    "    print('{:5.2f}% | {:5.2f}% | {:^7} | {:^5}'.format(proba[0]*100, proba[1]*100, pred[i], y_test[i]))"
   ]
  },
  {
   "cell_type": "markdown",
   "metadata": {},
   "source": [
    "## 線形SVM\n",
    "線形SVMを`scikit-learn` 利用して実装する。\n",
    "ここでSVCの引数、`C`は誤分類に対する厳密さであり、`C`を小さくすると誤分類に対して寛大になる。"
   ]
  },
  {
   "cell_type": "code",
   "execution_count": 8,
   "metadata": {},
   "outputs": [
    {
     "name": "stdout",
     "output_type": "stream",
     "text": [
      "accuracy: 100.0 %\n"
     ]
    }
   ],
   "source": [
    "from sklearn.svm import SVC\n",
    "\n",
    "svm = SVC(kernel='linear', C=1.0)\n",
    "svm.fit(X_train, y_train)\n",
    "\n",
    "pred = svm.predict(X_test)\n",
    "\n",
    "# 推論結果から正答率を出力してみる。\n",
    "print('accuracy:', 100*np.sum(pred==y_test)/len(y_test), '%')"
   ]
  },
  {
   "cell_type": "markdown",
   "metadata": {},
   "source": [
    "## 非線形SVM\n",
    "次は線形SVMと同様に`scikit-learn` 使って非線形SVMを実装していく。\n",
    "\n",
    "現在利用している、Iris-Datasetは線形分離可能なので、線形分離不可能なノイズ入りのXORデータセットを利用する。"
   ]
  },
  {
   "cell_type": "code",
   "execution_count": 9,
   "metadata": {},
   "outputs": [
    {
     "data": {
      "image/png": "[encoded data removed]",
      "text/plain": [
       "<Figure size 640x480 with 1 Axes>"
      ]
     },
     "metadata": {},
     "output_type": "display_data"
    }
   ],
   "source": [
    "import matplotlib.pyplot as plt\n",
    "\n",
    "# XORのデータセットを作成\n",
    "X = np.random.rand(256, 2)\n",
    "Y = np.logical_xor(X[:, 0] > 0.5, X[:, 1] > 0.5)\n",
    "\n",
    "# プロットして表示\n",
    "for x, y in zip(X, Y):\n",
    "    plt.scatter(x[0], x[1], c=('b' if y else 'r'))\n",
    "plt.show()\n",
    "\n",
    "X_train, X_test, y_train, y_test = train_test_split(X, Y, random_state=0)"
   ]
  },
  {
   "cell_type": "markdown",
   "metadata": {},
   "source": [
    "上記のデータを非線形SVMを利用して、非線形分離を行ってみる。\n",
    "線形SVMとの違いは `kernel` に利用するカーネルを指定するだけでよい。\n",
    "学習が管理ょすうると、線形分離不可能なデータに対してそれなりの分類精度が出ていることがわかる。"
   ]
  },
  {
   "cell_type": "code",
   "execution_count": 10,
   "metadata": {},
   "outputs": [
    {
     "name": "stdout",
     "output_type": "stream",
     "text": [
      "accuracy: 95.3125 %\n"
     ]
    }
   ],
   "source": [
    "from sklearn.svm import SVC\n",
    "\n",
    "# 非線形SVMのインスタンスを作成\n",
    "svm = SVC(kernel='rbf', random_state=1, gamma=0.10, C=10.0)\n",
    "\n",
    "# 学習\n",
    "svm.fit(X_train, y_train)\n",
    "\n",
    "# 推論\n",
    "pred = svm.predict(X_test)\n",
    "\n",
    "# 推論結果から正答率を出力してみる。\n",
    "print('accuracy:', 100*np.sum(pred==y_test)/len(y_test), '%')"
   ]
  }
 ],
 "metadata": {
  "kernelspec": {
   "display_name": "Python 3",
   "language": "python",
   "name": "python3"
  },
  "language_info": {
   "codemirror_mode": {
    "name": "ipython",
    "version": 3
   },
   "file_extension": ".py",
   "mimetype": "text/x-python",
   "name": "python",
   "nbconvert_exporter": "python",
   "pygments_lexer": "ipython3",
   "version": "3.10.12"
  },
  "orig_nbformat": 4
 },
 "nbformat": 4,
 "nbformat_minor": 2
}
